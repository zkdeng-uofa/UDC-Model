{
 "cells": [
  {
   "cell_type": "code",
   "execution_count": 4,
   "id": "03265b34",
   "metadata": {},
   "outputs": [],
   "source": [
    "import torch\n",
    "from torchvision.io import read_image\n",
    "from transformers import (\n",
    "    AutoImageProcessor,\n",
    ")\n"
   ]
  },
  {
   "cell_type": "code",
   "execution_count": 2,
   "id": "d88a4224",
   "metadata": {},
   "outputs": [
    {
     "ename": "NameError",
     "evalue": "name 'AutoImageProcessor' is not defined",
     "output_type": "error",
     "traceback": [
      "\u001b[31m---------------------------------------------------------------------------\u001b[39m",
      "\u001b[31mNameError\u001b[39m                                 Traceback (most recent call last)",
      "\u001b[36mCell\u001b[39m\u001b[36m \u001b[39m\u001b[32mIn[2]\u001b[39m\u001b[32m, line 1\u001b[39m\n\u001b[32m----> \u001b[39m\u001b[32m1\u001b[39m image_processor = \u001b[43mAutoImageProcessor\u001b[49m.from_pretrained(\u001b[33m\"\u001b[39m\u001b[33mmicrosoft/resnet-50\u001b[39m\u001b[33m\"\u001b[39m)\n",
      "\u001b[31mNameError\u001b[39m: name 'AutoImageProcessor' is not defined"
     ]
    }
   ],
   "source": [
    "image_processor = AutoImageProcessor.from_pretrained(\"microsoft/resnet-50\")"
   ]
  },
  {
   "cell_type": "code",
   "execution_count": null,
   "id": "97e54f7b",
   "metadata": {},
   "outputs": [],
   "source": [
    "class ImageProcessor:\n",
    "    def __init__(self):\n",
    "        self.transform = transforms.Compose([\n",
    "            transforms.Resize(256),              # Resize the shorter side to 256 pixels\n",
    "            transforms.CenterCrop(224),          # Center crop to 224x224\n",
    "            transforms.ToTensor(),               # Convert PIL image to a PyTorch tensor\n",
    "            transforms.Normalize(                 # Normalize using ImageNet statistics\n",
    "                mean=[0.485, 0.456, 0.406],\n",
    "                std=[0.229, 0.224, 0.225]\n",
    "            )\n",
    "        ])\n",
    "\n",
    "    def __call__(self, image):\n",
    "        \"\"\"\n",
    "        Process an input image using the defined transformations.\n",
    "        Args:\n",
    "            image (PIL.Image or np.array): The input image.\n",
    "        Returns:\n",
    "            torch.Tensor: Preprocessed image tensor.\n",
    "        \"\"\"\n",
    "        if isinstance(image, Image.Image):\n",
    "            return self.transform(image)\n",
    "        elif isinstance(image, torch.Tensor):\n",
    "            # If already a tensor, apply normalization only\n",
    "            return transforms.Normalize(\n",
    "                mean=[0.485, 0.456, 0.406],\n",
    "                std=[0.229, 0.224, 0.225]\n",
    "            )(image)\n",
    "        else:\n",
    "            raise ValueError(\"Input must be a PIL image or torch.Tensor\")\n",
    "\n",
    "# Example usage\n",
    "if __name__ == \"__main__\":\n",
    "    image = Image.open(\"path_to_your_image.jpg\")\n",
    "    processor = CustomImageProcessor()\n",
    "    processed_image = processor(image)\n",
    "    print(processed_image.shape)  # Should be (3, 224, 224)"
   ]
  }
 ],
 "metadata": {
  "kernelspec": {
   "display_name": "Python 3",
   "language": "python",
   "name": "python3"
  },
  "language_info": {
   "codemirror_mode": {
    "name": "ipython",
    "version": 3
   },
   "file_extension": ".py",
   "mimetype": "text/x-python",
   "name": "python",
   "nbconvert_exporter": "python",
   "pygments_lexer": "ipython3",
   "version": "3.13.3"
  }
 },
 "nbformat": 4,
 "nbformat_minor": 5
}
